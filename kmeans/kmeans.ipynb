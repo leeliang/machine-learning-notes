{
 "cells": [
  {
   "cell_type": "markdown",
   "metadata": {},
   "source": [
    "# K-means"
   ]
  },
  {
   "cell_type": "markdown",
   "metadata": {},
   "source": [
    "## K-means聚类算法原理"
   ]
  },
  {
   "cell_type": "markdown",
   "metadata": {},
   "source": [
    "1. 随机选择K个点作为聚类中心\n",
    "2. 计算剩余点与中心距离，归入最近的簇\n",
    "3. 对每个簇计算所有点的均值作为新的聚类中心\n",
    "4. 重复2、3知道聚类中心不变"
   ]
  },
  {
   "cell_type": "markdown",
   "metadata": {},
   "source": [
    "## 算法实现"
   ]
  },
  {
   "cell_type": "code",
   "execution_count": 1,
   "metadata": {},
   "outputs": [],
   "source": [
    "#codeing:utf-8\n",
    "import pandas as pd\n",
    "import numpy as np\n",
    "from sklearn.cluster import KMeans"
   ]
  },
  {
   "cell_type": "code",
   "execution_count": 140,
   "metadata": {},
   "outputs": [
    {
     "name": "stdout",
     "output_type": "stream",
     "text": [
      "Index([u'天津', u'河北', u'山西', u'内蒙古', u'辽宁', u'吉林', u'黑龙江', u'江苏', u'安徽', u'福建',\n",
      "       u'江西', u'山东', u'河南', u'湖北', u'湖南', u'广西', u'海南', u'重庆', u'四川', u'贵州',\n",
      "       u'云南', u'西藏', u'陕西', u'甘肃', u'青海', u'宁夏', u'新疆'],\n",
      "      dtype='object', name=u'地区')\n",
      "Index([u'北京', u'上海', u'浙江', u'广东'], dtype='object', name=u'地区')\n"
     ]
    }
   ],
   "source": [
    "df = pd.read_excel(\"./2005.xls\",index_col=0) \n",
    "df = df.dropna(axis=0,how='any') # drop any rows that include \"NAN\"\n",
    "data = df.values\n",
    "cityName = df.index\n",
    "n = 2 \n",
    "km = KMeans(n_clusters=n)\n",
    "label = km.fit_predict(data)\n",
    "expenses = np.sum(km.cluster_centers_,axis=1)  #the mean expenses of different cluster\n",
    "for i in range(n):\n",
    "    print cityName[np.where(label==i)]"
   ]
  },
  {
   "cell_type": "markdown",
   "metadata": {},
   "source": [
    "# DBSCAN密度聚类"
   ]
  },
  {
   "cell_type": "markdown",
   "metadata": {},
   "source": [
    "## DBSCAN密度聚类原理"
   ]
  },
  {
   "cell_type": "markdown",
   "metadata": {},
   "source": [
    "将数据分为三类：\n",
    "核心点：在半径Eps内含有超过MinPts数目的点\n"
   ]
  },
  {
   "cell_type": "markdown",
   "metadata": {},
   "source": [
    "# 利用K-means进行图像分割"
   ]
  },
  {
   "cell_type": "code",
   "execution_count": 2,
   "metadata": {},
   "outputs": [],
   "source": [
    "%matplotlib inline\n",
    "import numpy as np\n",
    "from PIL import Image\n",
    "import matplotlib.pylab as plt\n",
    "from sklearn.cluster import KMeans"
   ]
  },
  {
   "cell_type": "code",
   "execution_count": 2,
   "metadata": {
    "collapsed": true
   },
   "outputs": [],
   "source": [
    "#image = np.asanyarray(Image.open('./bulls_kmeans.jpg').convert('L')).astype('float')\n",
    "#image =Image.open('./bulls_kmeans.jpg')\n",
    "#print \"image.size: %d,%d\" %image.size\n",
    "#a = [image.getpixel((i,j)) for i in range(image.size[0]) for j in range(image.size[1])]\n",
    "#a = np.asarray(a)\n",
    "#max(a[:][3])"
   ]
  },
  {
   "cell_type": "code",
   "execution_count": 3,
   "metadata": {},
   "outputs": [],
   "source": [
    "def loadData(filePath):\n",
    "    f = open(filePath,'rb')\n",
    "    data = []\n",
    "    img = Image.open(f)\n",
    "    m,n = img.size\n",
    "    for i in range(m):\n",
    "        for j in range(n):\n",
    "            x,y,z = img.getpixel((i,j))\n",
    "            data.append([x/256.0,y/256.0,z/256.0])\n",
    "    f.close()\n",
    "    return np.mat(data),m,n\n",
    " \n",
    "imgData,row,col = loadData('./bulls_kmeans.jpg')\n",
    "label = KMeans(n_clusters=3).fit_predict(imgData)\n",
    " \n",
    "label = label.reshape([row,col])\n",
    "pic_new = Image.new(\"L\", (row, col))\n",
    "pic_new.save(\"new.jpg\", \"JPEG\")"
   ]
  },
  {
   "cell_type": "code",
   "execution_count": 14,
   "metadata": {
    "collapsed": true
   },
   "outputs": [],
   "source": [
    "for i in range(row):\n",
    "    for j in range(col):\n",
    "        if label[i][j]==0:\n",
    "            pic_new.putpixel((i,j), int(256/(label[i][j]+1)))\n",
    "        else:\n",
    "            pass\n",
    "pic_new.save(\"result-bull-0.jpg\", \"JPEG\")"
   ]
  },
  {
   "cell_type": "code",
   "execution_count": null,
   "metadata": {
    "collapsed": true
   },
   "outputs": [],
   "source": []
  }
 ],
 "metadata": {
  "kernelspec": {
   "display_name": "Python 2",
   "language": "python",
   "name": "python2"
  },
  "language_info": {
   "codemirror_mode": {
    "name": "ipython",
    "version": 2
   },
   "file_extension": ".py",
   "mimetype": "text/x-python",
   "name": "python",
   "nbconvert_exporter": "python",
   "pygments_lexer": "ipython2",
   "version": "2.7.14"
  },
  "toc": {
   "colors": {
    "hover_highlight": "#DAA520",
    "navigate_num": "#000000",
    "navigate_text": "#333333",
    "running_highlight": "#FF0000",
    "selected_highlight": "#FFD700",
    "sidebar_border": "#EEEEEE",
    "wrapper_background": "#FFFFFF"
   },
   "moveMenuLeft": true,
   "nav_menu": {
    "height": "102px",
    "width": "252px"
   },
   "navigate_menu": true,
   "number_sections": true,
   "sideBar": true,
   "threshold": 4,
   "toc_cell": false,
   "toc_section_display": "block",
   "toc_window_display": true,
   "widenNotebook": false
  }
 },
 "nbformat": 4,
 "nbformat_minor": 2
}
