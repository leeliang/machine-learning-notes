{
 "cells": [
  {
   "cell_type": "code",
   "execution_count": 1,
   "metadata": {},
   "outputs": [],
   "source": [
    "import pandas as pd\n",
    "import numpy as np\n",
    "from sklearn import preprocessing\n",
    "from sklearn.model_selection import train_test_split\n",
    "from sklearn.neighbors import KNeighborsClassifier"
   ]
  },
  {
   "cell_type": "markdown",
   "metadata": {},
   "source": [
    "# KNN 算法\n",
    ">本章实现了 KNN 算法，采用了两个实例进行实战：\n",
    "* 约会对象的分类\n",
    "* 手写数字识别\n",
    "\n",
    ">本 Notebook 采用 sklearn 进行实例演示，并没有具体实现 KNN 算法，KNN 算法原理可参见其他文件。\n",
    "\n",
    "**KNN 算法**\n",
    "* 优点：精度高、对异常值不敏感、无数据输入假定。\n",
    "* 缺点：计算复杂度高、空间复杂度高。\n",
    "* 适用范围：数据型和标称型。"
   ]
  },
  {
   "cell_type": "code",
   "execution_count": 3,
   "metadata": {},
   "outputs": [],
   "source": [
    "# 读取约会对象数据\n",
    "df = pd.read_table('data/ch2/datingTestSet.txt', header=None, names=['miles', 'time', 'liters', 'types'])"
   ]
  },
  {
   "cell_type": "code",
   "execution_count": 4,
   "metadata": {},
   "outputs": [
    {
     "data": {
      "text/html": [
       "<div>\n",
       "<style scoped>\n",
       "    .dataframe tbody tr th:only-of-type {\n",
       "        vertical-align: middle;\n",
       "    }\n",
       "\n",
       "    .dataframe tbody tr th {\n",
       "        vertical-align: top;\n",
       "    }\n",
       "\n",
       "    .dataframe thead th {\n",
       "        text-align: right;\n",
       "    }\n",
       "</style>\n",
       "<table border=\"1\" class=\"dataframe\">\n",
       "  <thead>\n",
       "    <tr style=\"text-align: right;\">\n",
       "      <th></th>\n",
       "      <th>miles</th>\n",
       "      <th>time</th>\n",
       "      <th>liters</th>\n",
       "      <th>types</th>\n",
       "    </tr>\n",
       "  </thead>\n",
       "  <tbody>\n",
       "    <tr>\n",
       "      <th>0</th>\n",
       "      <td>40920</td>\n",
       "      <td>8.326976</td>\n",
       "      <td>0.953952</td>\n",
       "      <td>largeDoses</td>\n",
       "    </tr>\n",
       "    <tr>\n",
       "      <th>1</th>\n",
       "      <td>14488</td>\n",
       "      <td>7.153469</td>\n",
       "      <td>1.673904</td>\n",
       "      <td>smallDoses</td>\n",
       "    </tr>\n",
       "    <tr>\n",
       "      <th>2</th>\n",
       "      <td>26052</td>\n",
       "      <td>1.441871</td>\n",
       "      <td>0.805124</td>\n",
       "      <td>didntLike</td>\n",
       "    </tr>\n",
       "    <tr>\n",
       "      <th>3</th>\n",
       "      <td>75136</td>\n",
       "      <td>13.147394</td>\n",
       "      <td>0.428964</td>\n",
       "      <td>didntLike</td>\n",
       "    </tr>\n",
       "    <tr>\n",
       "      <th>4</th>\n",
       "      <td>38344</td>\n",
       "      <td>1.669788</td>\n",
       "      <td>0.134296</td>\n",
       "      <td>didntLike</td>\n",
       "    </tr>\n",
       "  </tbody>\n",
       "</table>\n",
       "</div>"
      ],
      "text/plain": [
       "   miles       time    liters       types\n",
       "0  40920   8.326976  0.953952  largeDoses\n",
       "1  14488   7.153469  1.673904  smallDoses\n",
       "2  26052   1.441871  0.805124   didntLike\n",
       "3  75136  13.147394  0.428964   didntLike\n",
       "4  38344   1.669788  0.134296   didntLike"
      ]
     },
     "execution_count": 4,
     "metadata": {},
     "output_type": "execute_result"
    }
   ],
   "source": [
    "# 根据三组属性分类约会对象类型\n",
    "# miles：每年飞行里程\n",
    "# time：玩游戏所耗时间百分比\n",
    "# liters：吃冰淇淋公升数\n",
    "# types：约会对象类型\n",
    "df.head()"
   ]
  },
  {
   "cell_type": "code",
   "execution_count": 5,
   "metadata": {},
   "outputs": [],
   "source": [
    "# 由于三个属性的数字大小不一致，数字越大的属性对距离的计算影响越大\n",
    "# 采用 sklearn 将三个属性的数据归一化\n",
    "scaler = preprocessing.MinMaxScaler()\n",
    "x = scaler.fit_transform(df[['miles', 'time', 'liters']])\n",
    "#  将约会对象类型的“文本”转化为“数字”\n",
    "le = preprocessing.LabelEncoder()\n",
    "y = le.fit_transform(df['types'])"
   ]
  },
  {
   "cell_type": "code",
   "execution_count": 6,
   "metadata": {},
   "outputs": [],
   "source": [
    "# 将数据分为训练集和测试集\n",
    "x_train, x_test, y_train, y_test = train_test_split(x, y, test_size=0.1)"
   ]
  },
  {
   "cell_type": "code",
   "execution_count": 7,
   "metadata": {},
   "outputs": [
    {
     "data": {
      "text/plain": [
       "KNeighborsClassifier(algorithm='auto', leaf_size=30, metric='minkowski',\n",
       "           metric_params=None, n_jobs=1, n_neighbors=5, p=2,\n",
       "           weights='uniform')"
      ]
     },
     "execution_count": 7,
     "metadata": {},
     "output_type": "execute_result"
    }
   ],
   "source": [
    "# 训练 KNN 模型\n",
    "knn = KNeighborsClassifier()\n",
    "knn.fit(x_train, y_train)"
   ]
  },
  {
   "cell_type": "code",
   "execution_count": 9,
   "metadata": {},
   "outputs": [
    {
     "data": {
      "text/plain": [
       "array(['didntLike', 'didntLike', 'smallDoses', 'smallDoses', 'didntLike',\n",
       "       'largeDoses', 'largeDoses', 'didntLike', 'smallDoses', 'largeDoses',\n",
       "       'didntLike', 'didntLike', 'largeDoses', 'smallDoses', 'didntLike',\n",
       "       'smallDoses', 'largeDoses', 'smallDoses', 'didntLike', 'didntLike',\n",
       "       'smallDoses', 'didntLike', 'didntLike', 'didntLike', 'smallDoses',\n",
       "       'largeDoses', 'didntLike', 'largeDoses', 'largeDoses', 'didntLike',\n",
       "       'largeDoses', 'largeDoses', 'largeDoses', 'didntLike', 'largeDoses',\n",
       "       'didntLike', 'largeDoses', 'smallDoses', 'smallDoses', 'largeDoses',\n",
       "       'smallDoses', 'didntLike', 'largeDoses', 'didntLike', 'largeDoses',\n",
       "       'smallDoses', 'didntLike', 'didntLike', 'largeDoses', 'smallDoses',\n",
       "       'didntLike', 'largeDoses', 'smallDoses', 'didntLike', 'smallDoses',\n",
       "       'smallDoses', 'largeDoses', 'largeDoses', 'largeDoses',\n",
       "       'largeDoses', 'smallDoses', 'smallDoses', 'largeDoses', 'didntLike',\n",
       "       'smallDoses', 'smallDoses', 'largeDoses', 'didntLike', 'didntLike',\n",
       "       'smallDoses', 'didntLike', 'smallDoses', 'largeDoses', 'largeDoses',\n",
       "       'smallDoses', 'largeDoses', 'smallDoses', 'smallDoses',\n",
       "       'smallDoses', 'smallDoses', 'largeDoses', 'didntLike', 'largeDoses',\n",
       "       'smallDoses', 'didntLike', 'smallDoses', 'smallDoses', 'largeDoses',\n",
       "       'didntLike', 'smallDoses', 'didntLike', 'largeDoses', 'didntLike',\n",
       "       'didntLike', 'largeDoses', 'smallDoses', 'smallDoses', 'largeDoses',\n",
       "       'smallDoses', 'smallDoses'], dtype=object)"
      ]
     },
     "execution_count": 9,
     "metadata": {},
     "output_type": "execute_result"
    }
   ],
   "source": [
    "# 预测约会对象类型\n",
    "y_ = knn.predict(x_test)\n",
    "le.inverse_transform(y_)"
   ]
  },
  {
   "cell_type": "code",
   "execution_count": 10,
   "metadata": {},
   "outputs": [
    {
     "data": {
      "text/plain": [
       "0.93000000000000005"
      ]
     },
     "execution_count": 10,
     "metadata": {},
     "output_type": "execute_result"
    }
   ],
   "source": [
    "# 测试模型精度\n",
    "knn.score(x_test, y_test)"
   ]
  },
  {
   "cell_type": "markdown",
   "metadata": {},
   "source": [
    "**手写数字类似，略。**"
   ]
  },
  {
   "cell_type": "code",
   "execution_count": null,
   "metadata": {},
   "outputs": [],
   "source": []
  }
 ],
 "metadata": {
  "kernelspec": {
   "display_name": "Python 2",
   "language": "python",
   "name": "python2"
  },
  "language_info": {
   "codemirror_mode": {
    "name": "ipython",
    "version": 2
   },
   "file_extension": ".py",
   "mimetype": "text/x-python",
   "name": "python",
   "nbconvert_exporter": "python",
   "pygments_lexer": "ipython2",
   "version": "2.7.14"
  },
  "toc": {
   "colors": {
    "hover_highlight": "#DAA520",
    "navigate_num": "#000000",
    "navigate_text": "#333333",
    "running_highlight": "#FF0000",
    "selected_highlight": "#FFD700",
    "sidebar_border": "#EEEEEE",
    "wrapper_background": "#FFFFFF"
   },
   "moveMenuLeft": true,
   "nav_menu": {
    "height": "30px",
    "width": "252px"
   },
   "navigate_menu": true,
   "number_sections": true,
   "sideBar": true,
   "threshold": 4,
   "toc_cell": false,
   "toc_section_display": "block",
   "toc_window_display": false,
   "widenNotebook": false
  }
 },
 "nbformat": 4,
 "nbformat_minor": 2
}
